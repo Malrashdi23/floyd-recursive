{
 "cells": [
  {
   "cell_type": "code",
   "execution_count": 10,
   "metadata": {},
   "outputs": [],
   "source": [
    "import sys\n",
    "import itertools\n",
    "import os\n",
    "import psutil\n",
    "import time\n",
    "import math"
   ]
  },
  {
   "cell_type": "code",
   "execution_count": 11,
   "metadata": {},
   "outputs": [],
   "source": [
    "NO_PATH = sys.maxsize\n",
    "graph = [\n",
    "    [0,       7,       NO_PATH, 8       ],\n",
    "    [NO_PATH, 0,       5,       NO_PATH ],\n",
    "    [NO_PATH, NO_PATH, 0,       2       ],\n",
    "    [NO_PATH, NO_PATH, NO_PATH, 0       ]\n",
    "]\n",
    "MAX_LENGTH = len(graph[0])"
   ]
  },
  {
   "cell_type": "code",
   "execution_count": 12,
   "metadata": {},
   "outputs": [],
   "source": [
    "sample_e = [[0, 8, NO_PATH, NO_PATH, 5, 3, NO_PATH, NO_PATH, 5, 2, 8, 11, 23, 17, 1, 2],\n",
    "            [NO_PATH, 0, NO_PATH, 11, 5, NO_PATH, 9, NO_PATH, NO_PATH, 4, NO_PATH, 1, 4, 11, NO_PATH, 8],\n",
    "            [7, 4, 0, NO_PATH, NO_PATH, 4, NO_PATH, NO_PATH, 5, 3, NO_PATH, NO_PATH, 5, 2, 8, 11],\n",
    "            [4, 4, 8, 0, 1, NO_PATH, NO_PATH, 2, NO_PATH, NO_PATH, NO_PATH, NO_PATH, NO_PATH, NO_PATH, NO_PATH, 3],\n",
    "            [4, 4, 8, NO_PATH, 0, NO_PATH, NO_PATH, NO_PATH, NO_PATH, 4, NO_PATH, 11, 5, NO_PATH, 9, NO_PATH],\n",
    "            [4, 4, 8, NO_PATH, NO_PATH, 0, NO_PATH, NO_PATH, 7, 4, 9, NO_PATH, NO_PATH, 4, NO_PATH, NO_PATH],\n",
    "            [4, 4, 8, 3, NO_PATH, 2, 0, 12, NO_PATH, NO_PATH, NO_PATH, NO_PATH, NO_PATH, NO_PATH, NO_PATH, 12],\n",
    "            [4, 4, 8, NO_PATH, NO_PATH, NO_PATH, NO_PATH, 0, 5, 2, 9, 22, 3, 7, 9, 1],\n",
    "            [2, 8, 8, NO_PATH, 5, 3, NO_PATH, NO_PATH, 0, 2, 8, 11, 23, 17, 1, 2],\n",
    "            [NO_PATH, 5, NO_PATH, 11, 5, NO_PATH, 9, NO_PATH, NO_PATH, 0, NO_PATH, 1, 4, 11, NO_PATH, 8],\n",
    "            [7, 4, 2, NO_PATH, NO_PATH, 4, NO_PATH, NO_PATH, 5, 3, 0, NO_PATH, 5, 2, 8, 11],\n",
    "            [NO_PATH, 7, 4, NO_PATH, 1, 2, 9, 2, NO_PATH, NO_PATH, NO_PATH, 0, NO_PATH, NO_PATH, NO_PATH, 3],\n",
    "            [NO_PATH, 7, 4, 11, 2, NO_PATH, NO_PATH, 3, 5, 4, NO_PATH, 11, 0, NO_PATH, 9, NO_PATH],\n",
    "            [NO_PATH, 7, 4, NO_PATH, NO_PATH, 9, NO_PATH, NO_PATH, 7, 4, 9, NO_PATH, NO_PATH, 0, NO_PATH, NO_PATH],\n",
    "            [NO_PATH, 7, 4, 3, NO_PATH, NO_PATH, 8, 12, NO_PATH, 6, NO_PATH, NO_PATH, NO_PATH, NO_PATH, 0, 12],\n",
    "            [NO_PATH, 7, 4, NO_PATH, NO_PATH, NO_PATH, NO_PATH, 1, 5, 2, NO_PATH, 22, 3, 7, 9, 0]]\n"
   ]
  },
  {
   "cell_type": "markdown",
   "metadata": {},
   "source": [
    "## Imperative Way"
   ]
  },
  {
   "cell_type": "code",
   "execution_count": 13,
   "metadata": {},
   "outputs": [],
   "source": [
    "def floyd(distance):\n",
    "    for intermediate, start_node, end_node in itertools.product(range(MAX_LENGTH), range(MAX_LENGTH), range(MAX_LENGTH)):\n",
    "        if start_node == end_node:\n",
    "            distance[start_node][end_node] == 0\n",
    "            continue\n",
    "\n",
    "        distance[start_node][end_node] = min(distance[start_node][end_node], distance[start_node][intermediate] + distance[intermediate][end_node])\n",
    "\n",
    "    return distance\n"
   ]
  },
  {
   "cell_type": "code",
   "execution_count": 14,
   "metadata": {},
   "outputs": [],
   "source": [
    "imperative_results = []"
   ]
  },
  {
   "cell_type": "code",
   "execution_count": 15,
   "metadata": {},
   "outputs": [],
   "source": [
    "for i in range(100):\n",
    "    timerStart = time.perf_counter()\n",
    "    floyd(sample_e)\n",
    "    timeEnd = time.perf_counter()\n",
    "    imperative_results.append(\n",
    "        math.floor((timeEnd - timerStart) * 1000) / 100\n",
    "    )"
   ]
  },
  {
   "cell_type": "markdown",
   "metadata": {},
   "source": [
    "## Recursion Way"
   ]
  },
  {
   "cell_type": "code",
   "execution_count": 16,
   "metadata": {},
   "outputs": [],
   "source": [
    "def shortest_path(start, end, intermediate, distance):\n",
    "\n",
    "    # base case\n",
    "    if intermediate < 0:\n",
    "        return distance[start][end]\n",
    "    \n",
    "    return min(\n",
    "        shortest_path(start, end, intermediate - 1, distance),\n",
    "        shortest_path(start, intermediate , intermediate - 1, distance) + shortest_path(intermediate, end, intermediate - 1, distance)\n",
    "    )\n",
    "    \n",
    "def floyd(distance):\n",
    "\n",
    "    for start_node , end_node in itertools.product(range(MAX_LENGTH), range(MAX_LENGTH)):\n",
    "        \n",
    "        if start_node == end_node:\n",
    "            distance[start_node][end_node] = 0\n",
    "            continue\n",
    "\n",
    "        distance[start_node][end_node] = shortest_path(start_node, end_node, MAX_LENGTH - 1 , distance)\n",
    "\n",
    "    return distance"
   ]
  },
  {
   "cell_type": "code",
   "execution_count": 17,
   "metadata": {},
   "outputs": [],
   "source": [
    "recursion_results = []"
   ]
  },
  {
   "cell_type": "code",
   "execution_count": 18,
   "metadata": {},
   "outputs": [],
   "source": [
    "for i in range(100):\n",
    "    timerStart = time.perf_counter()\n",
    "    floyd(sample_e)\n",
    "    timeEnd = time.perf_counter()\n",
    "    recursion_results.append(\n",
    "        math.floor((timeEnd - timerStart) * 1000) / 100\n",
    "    )"
   ]
  },
  {
   "cell_type": "markdown",
   "metadata": {},
   "source": [
    "# Generate Plots"
   ]
  },
  {
   "cell_type": "code",
   "execution_count": 19,
   "metadata": {},
   "outputs": [],
   "source": [
    "import matplotlib.pyplot as plt"
   ]
  },
  {
   "cell_type": "code",
   "execution_count": 21,
   "metadata": {},
   "outputs": [
    {
     "data": {
      "text/plain": [
       "<matplotlib.legend.Legend at 0x110c7c550>"
      ]
     },
     "execution_count": 21,
     "metadata": {},
     "output_type": "execute_result"
    },
    {
     "data": {
      "image/png": "[encoded data removed]",
      "text/plain": [
       "<Figure size 640x480 with 1 Axes>"
      ]
     },
     "metadata": {},
     "output_type": "display_data"
    }
   ],
   "source": [
    "plt.plot(imperative_results, recursion_results, label ='Imperaive vs Recursion')\n",
    "\n",
    "plt.legend()"
   ]
  },
  {
   "cell_type": "code",
   "execution_count": null,
   "metadata": {},
   "outputs": [],
   "source": []
  }
 ],
 "metadata": {
  "kernelspec": {
   "display_name": "env",
   "language": "python",
   "name": "python3"
  },
  "language_info": {
   "codemirror_mode": {
    "name": "ipython",
    "version": 3
   },
   "file_extension": ".py",
   "mimetype": "text/x-python",
   "name": "python",
   "nbconvert_exporter": "python",
   "pygments_lexer": "ipython3",
   "version": "3.11.5"
  },
  "orig_nbformat": 4
 },
 "nbformat": 4,
 "nbformat_minor": 2
}
